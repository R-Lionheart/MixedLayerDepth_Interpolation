{
 "cells": [
  {
   "cell_type": "code",
   "execution_count": 1,
   "metadata": {},
   "outputs": [],
   "source": [
    "import argparse\n",
    "import pandas as pd\n",
    "import numpy as np\n",
    "import matplotlib.pyplot as plt\n",
    "import seaborn; seaborn.set()"
   ]
  },
  {
   "cell_type": "code",
   "execution_count": 2,
   "metadata": {},
   "outputs": [],
   "source": [
    "# =============================================================================\n",
    "# Edit parameters in function as necessary.\n",
    "# =============================================================================\n",
    "def interpolate(group): \n",
    "    if len(group) < 7:\n",
    "        return np.nan\n",
    "    reference_row = group[group.depth == 5]\n",
    "    assert len(reference_row) <= 1\n",
    "    if len(reference_row) == 0:\n",
    "        return np.nan\n",
    "    reference_temp = reference_row.iloc[0].temperature\n",
    "    x0 = reference_temp - 0.2\n",
    "    x = group.temperature.values\n",
    "    y = group.depth.values\n",
    "    xs = np.sort(x)\n",
    "    ys = np.array(y)[np.argsort(x)]\n",
    "    return np.interp(x0, xs, ys)"
   ]
  },
  {
   "cell_type": "code",
   "execution_count": 5,
   "metadata": {},
   "outputs": [
    {
     "name": "stderr",
     "output_type": "stream",
     "text": [
      "usage: ipykernel_launcher.py [-h] [--graph] [--scatter] [--depth] file\n",
      "ipykernel_launcher.py: error: unrecognized arguments: -f\n"
     ]
    },
    {
     "ename": "SystemExit",
     "evalue": "2",
     "output_type": "error",
     "traceback": [
      "An exception has occurred, use %tb to see the full traceback.\n",
      "\u001b[0;31mSystemExit\u001b[0m\u001b[0;31m:\u001b[0m 2\n"
     ]
    }
   ],
   "source": [
    "# =============================================================================\n",
    "# Open a shell and launch the program in python from the command line.\n",
    "# Include the positional argument (THEMO csv file) and help command <-h>\n",
    "# to describe options for visualizations of data. \n",
    "# =============================================================================\n",
    "\n",
    "parser = argparse.ArgumentParser(description='This program linearly interpolates and visualizes the mixed layer depth from continuous csv data.',\n",
    "                                 epilog='Regina Lionheart, CROSSMAR Lab, University of Haifa')\n",
    "parser.add_argument('file', help='a path to an csv file containing depth and temperature measurements')\n",
    "parser.add_argument('--graph', action='store_true', default=True, help='default: whether to output a graph of the MLD Interpolation')\n",
    "parser.add_argument('--scatter', action='store_true', default=False, help='whether to output a scatter plot of temperatures at depth')\n",
    "parser.add_argument('--depth', action='store_true', default=False, help='whether to output a depth profile of a particular cast')\n",
    "args = parser.parse_args()"
   ]
  },
  {
   "cell_type": "code",
   "execution_count": 3,
   "metadata": {
    "jupyter": {
     "source_hidden": true
    }
   },
   "outputs": [
    {
     "name": "stderr",
     "output_type": "stream",
     "text": [
      "usage: ipykernel_launcher.py [-h] [--graph] [--scatter] [--depth] file\n",
      "ipykernel_launcher.py: error: unrecognized arguments: -f\n"
     ]
    },
    {
     "ename": "SystemExit",
     "evalue": "2",
     "output_type": "error",
     "traceback": [
      "An exception has occurred, use %tb to see the full traceback.\n",
      "\u001b[0;31mSystemExit\u001b[0m\u001b[0;31m:\u001b[0m 2\n"
     ]
    },
    {
     "name": "stderr",
     "output_type": "stream",
     "text": [
      "//anaconda3/lib/python3.7/site-packages/IPython/core/interactiveshell.py:3333: UserWarning: To exit: use 'exit', 'quit', or Ctrl-D.\n",
      "  warn(\"To exit: use 'exit', 'quit', or Ctrl-D.\", stacklevel=1)\n"
     ]
    }
   ],
   "source": [
    "# =============================================================================\n",
    "# Open a shell and launch the program in python from the command line.\n",
    "# Include the positional argument (THEMO csv file) and help command <-h>\n",
    "# to describe options for visualizations of data. \n",
    "# =============================================================================\n",
    "\n",
    "parser = argparse.ArgumentParser(description='This program linearly interpolates and visualizes the mixed layer depth from continuous csv data.',\n",
    "                                 epilog='Regina Lionheart, CROSSMAR Lab, University of Haifa')\n",
    "parser.add_argument('file', help='a path to an csv file containing depth and temperature measurements')\n",
    "parser.add_argument('--graph', action='store_true', default=True, help='default: whether to output a graph of the MLD Interpolation')\n",
    "parser.add_argument('--scatter', action='store_true', default=False, help='whether to output a scatter plot of temperatures at depth')\n",
    "parser.add_argument('--depth', action='store_true', default=False, help='whether to output a depth profile of a particular cast')\n",
    "args = parser.parse_args()"
   ]
  },
  {
   "cell_type": "code",
   "execution_count": 4,
   "metadata": {},
   "outputs": [
    {
     "ename": "NameError",
     "evalue": "name 'args' is not defined",
     "output_type": "error",
     "traceback": [
      "\u001b[0;31m---------------------------------------------------------------------------\u001b[0m",
      "\u001b[0;31mNameError\u001b[0m                                 Traceback (most recent call last)",
      "\u001b[0;32m<ipython-input-4-a35dd20e0885>\u001b[0m in \u001b[0;36m<module>\u001b[0;34m\u001b[0m\n\u001b[1;32m      3\u001b[0m \u001b[0;31m# =============================================================================\u001b[0m\u001b[0;34m\u001b[0m\u001b[0;34m\u001b[0m\u001b[0;34m\u001b[0m\u001b[0m\n\u001b[1;32m      4\u001b[0m \u001b[0;34m\u001b[0m\u001b[0m\n\u001b[0;32m----> 5\u001b[0;31m \u001b[0mds\u001b[0m \u001b[0;34m=\u001b[0m \u001b[0mpd\u001b[0m\u001b[0;34m.\u001b[0m\u001b[0mread_csv\u001b[0m\u001b[0;34m(\u001b[0m\u001b[0margs\u001b[0m\u001b[0;34m.\u001b[0m\u001b[0mfile\u001b[0m\u001b[0;34m,\u001b[0m \u001b[0mparse_dates\u001b[0m\u001b[0;34m=\u001b[0m\u001b[0;34m[\u001b[0m\u001b[0;34m[\u001b[0m\u001b[0;36m0\u001b[0m\u001b[0;34m,\u001b[0m \u001b[0;36m1\u001b[0m\u001b[0;34m]\u001b[0m\u001b[0;34m]\u001b[0m\u001b[0;34m,\u001b[0m \u001b[0mindex_col\u001b[0m\u001b[0;34m=\u001b[0m\u001b[0;36m0\u001b[0m\u001b[0;34m)\u001b[0m\u001b[0;34m\u001b[0m\u001b[0;34m\u001b[0m\u001b[0m\n\u001b[0m\u001b[1;32m      6\u001b[0m \u001b[0mds\u001b[0m \u001b[0;34m=\u001b[0m \u001b[0mds\u001b[0m\u001b[0;34m.\u001b[0m\u001b[0mdrop\u001b[0m\u001b[0;34m(\u001b[0m\u001b[0mcolumns\u001b[0m\u001b[0;34m=\u001b[0m\u001b[0;34m[\u001b[0m\u001b[0;34m'threshold'\u001b[0m\u001b[0;34m,\u001b[0m \u001b[0;34m'const_err'\u001b[0m\u001b[0;34m,\u001b[0m \u001b[0;34m's9_id'\u001b[0m\u001b[0;34m]\u001b[0m\u001b[0;34m)\u001b[0m \u001b[0;31m# Drop unusued columns\u001b[0m\u001b[0;34m\u001b[0m\u001b[0;34m\u001b[0m\u001b[0m\n\u001b[1;32m      7\u001b[0m \u001b[0mds\u001b[0m \u001b[0;34m=\u001b[0m \u001b[0mds\u001b[0m\u001b[0;34m[\u001b[0m\u001b[0;34m(\u001b[0m\u001b[0mds\u001b[0m\u001b[0;34m.\u001b[0m\u001b[0mtemperature\u001b[0m \u001b[0;34m<\u001b[0m \u001b[0;36m35\u001b[0m\u001b[0;34m)\u001b[0m\u001b[0;34m]\u001b[0m \u001b[0;31m# Temp threshold can be edited for seasons\u001b[0m\u001b[0;34m\u001b[0m\u001b[0;34m\u001b[0m\u001b[0m\n",
      "\u001b[0;31mNameError\u001b[0m: name 'args' is not defined"
     ]
    }
   ],
   "source": [
    "# =============================================================================\n",
    "# Import SST data from Themo. \n",
    "# =============================================================================\n",
    "\n",
    "ds = pd.read_csv(args.file, parse_dates=[[0, 1]], index_col=0)\n",
    "ds = ds.drop(columns=['threshold', 'const_err', 's9_id']) # Drop unusued columns\n",
    "ds = ds[(ds.temperature < 35)] # Temp threshold can be edited for seasons\n",
    "ds = ds.drop_duplicates()\n",
    "ds.describe() # Check for any obviously wrong depth/temperature data\n",
    "s = ds.groupby('d_stamp_t_stamp').apply(interpolate)\n",
    "s = s.dropna()\n",
    "s.columns = ['Date', 'Interpolated MLD']\n",
    "print(s)\n",
    "\n",
    "if args.graph:\n",
    "    ## Time series plot of interoplated MLD\n",
    "    mld_fig = s.plot(figsize=(11,8), marker = 'o', color='darkblue', \n",
    "                     markersize=5)\n",
    "    plt.title('Interpolated Mixed Layer Depth')\n",
    "    plt.xlabel('Date')\n",
    "    plt.ylabel('Depth of the Mixed Layer')\n",
    "    plt.gca().invert_yaxis()\n",
    "\n",
    "\n",
    "if args.scatter:\n",
    "    ## Scatter plot of original dataset that shows outliers at depth\n",
    "    scatter = plt.figure(figsize=(10,7))\n",
    "    plt.scatter(ds.temperature, ds.depth) \n",
    "    plt.title('Temperature Distribution Over Themo Depths', fontsize=20)\n",
    "    plt.xlabel('Temperature in C')\n",
    "    plt.ylabel('Depth')\n",
    "    plt.legend('Temperature Measureent', fontsize=15, loc=0)\n",
    "    plt.gca().invert_yaxis()\n",
    "    \n",
    "if args.depth:\n",
    "    ## Depth profile of a single cast, showing interpolated MLD\n",
    "    cast = input(\"Enter your cast of interest, eg. ['2018-06-01 12:30:00']: \")\n",
    "    date = cast\n",
    "    date = ds.loc[date]\n",
    "    date = date.sort_values(by='depth', ascending=True)\n",
    "    x = np.asarray(date.temperature)\n",
    "    y = np.asarray(date.depth)\n",
    "    xs = np.sort(x)\n",
    "    ys = np.array(y)[np.argsort(x)]\n",
    "    x0 = x[0] - 0.2\n",
    "    y0 = np.interp(x0, xs, ys)\n",
    "    fig = plt.figure(figsize=(10,7)), plt.plot(style='.-')\n",
    "    plt.suptitle('Interpolated MLD from Themo Cast')\n",
    "    plt.title(cast)\n",
    "    plt.xlabel('Temperature in C'), plt.ylabel('Depth')\n",
    "    plt.gca().invert_yaxis()\n",
    "    plt.plot(x,y, linestyle='--', marker='o', color='b')\n",
    "    plt.plot(x0,y0, marker='o', markersize='10', color='C3')\n",
    "    plt.annotate(\n",
    "            'MLD', xy=(x0, y0), ha='left',\n",
    "            va='top', textcoords='offset points', bbox=dict(BoxStyle='Round, pad=0.5', fc='yellow',\n",
    "            alpha=0.5), arrowprops=dict(facecolor='black', shrink=0.05))\n",
    "\n",
    "plt.show()"
   ]
  },
  {
   "cell_type": "code",
   "execution_count": null,
   "metadata": {},
   "outputs": [],
   "source": []
  }
 ],
 "metadata": {
  "kernelspec": {
   "display_name": "Python 3",
   "language": "python",
   "name": "python3"
  },
  "language_info": {
   "codemirror_mode": {
    "name": "ipython",
    "version": 3
   },
   "file_extension": ".py",
   "mimetype": "text/x-python",
   "name": "python",
   "nbconvert_exporter": "python",
   "pygments_lexer": "ipython3",
   "version": "3.7.3"
  }
 },
 "nbformat": 4,
 "nbformat_minor": 4
}
